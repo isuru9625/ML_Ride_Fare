{
 "cells": [
  {
   "cell_type": "code",
   "execution_count": 38,
   "metadata": {},
   "outputs": [],
   "source": [
    "import pandas as pd\n",
    "import numpy as np\n",
    "data= pd.read_csv(\"Missing_Values_Handling/final_train.csv\")"
   ]
  },
  {
   "cell_type": "code",
   "execution_count": 39,
   "metadata": {},
   "outputs": [
    {
     "data": {
      "text/html": [
       "<div>\n",
       "<style scoped>\n",
       "    .dataframe tbody tr th:only-of-type {\n",
       "        vertical-align: middle;\n",
       "    }\n",
       "\n",
       "    .dataframe tbody tr th {\n",
       "        vertical-align: top;\n",
       "    }\n",
       "\n",
       "    .dataframe thead th {\n",
       "        text-align: right;\n",
       "    }\n",
       "</style>\n",
       "<table border=\"1\" class=\"dataframe\">\n",
       "  <thead>\n",
       "    <tr style=\"text-align: right;\">\n",
       "      <th></th>\n",
       "      <th>Unnamed: 0</th>\n",
       "      <th>tripid</th>\n",
       "      <th>additional_fare</th>\n",
       "      <th>duration</th>\n",
       "      <th>meter_waiting</th>\n",
       "      <th>meter_waiting_fare</th>\n",
       "      <th>meter_waiting_till_pickup</th>\n",
       "      <th>pickup_time</th>\n",
       "      <th>drop_time</th>\n",
       "      <th>pick_lat</th>\n",
       "      <th>...</th>\n",
       "      <th>pickup_hour</th>\n",
       "      <th>pickup_minute</th>\n",
       "      <th>drop_year</th>\n",
       "      <th>drop_month</th>\n",
       "      <th>drop_date</th>\n",
       "      <th>drop_hour</th>\n",
       "      <th>drop_minute</th>\n",
       "      <th>seconds</th>\n",
       "      <th>number_of_nights</th>\n",
       "      <th>pickup_day</th>\n",
       "    </tr>\n",
       "  </thead>\n",
       "  <tbody>\n",
       "    <tr>\n",
       "      <th>0</th>\n",
       "      <td>0</td>\n",
       "      <td>189123628</td>\n",
       "      <td>10.5</td>\n",
       "      <td>834</td>\n",
       "      <td>56.0</td>\n",
       "      <td>0.000000</td>\n",
       "      <td>64.0</td>\n",
       "      <td>2019-11-01 00:20:00</td>\n",
       "      <td>2019-11-01 00:34:00</td>\n",
       "      <td>6.86252</td>\n",
       "      <td>...</td>\n",
       "      <td>0</td>\n",
       "      <td>20</td>\n",
       "      <td>2019</td>\n",
       "      <td>11</td>\n",
       "      <td>1</td>\n",
       "      <td>0</td>\n",
       "      <td>34</td>\n",
       "      <td>840</td>\n",
       "      <td>0</td>\n",
       "      <td>4</td>\n",
       "    </tr>\n",
       "    <tr>\n",
       "      <th>1</th>\n",
       "      <td>1</td>\n",
       "      <td>189125358</td>\n",
       "      <td>10.5</td>\n",
       "      <td>791</td>\n",
       "      <td>47.0</td>\n",
       "      <td>0.000000</td>\n",
       "      <td>134.0</td>\n",
       "      <td>2019-11-01 00:56:00</td>\n",
       "      <td>2019-11-01 01:09:00</td>\n",
       "      <td>6.88589</td>\n",
       "      <td>...</td>\n",
       "      <td>0</td>\n",
       "      <td>56</td>\n",
       "      <td>2019</td>\n",
       "      <td>11</td>\n",
       "      <td>1</td>\n",
       "      <td>1</td>\n",
       "      <td>9</td>\n",
       "      <td>780</td>\n",
       "      <td>0</td>\n",
       "      <td>4</td>\n",
       "    </tr>\n",
       "    <tr>\n",
       "      <th>2</th>\n",
       "      <td>2</td>\n",
       "      <td>189125719</td>\n",
       "      <td>10.5</td>\n",
       "      <td>1087</td>\n",
       "      <td>80.0</td>\n",
       "      <td>0.000000</td>\n",
       "      <td>61.0</td>\n",
       "      <td>2019-11-01 01:08:00</td>\n",
       "      <td>2019-11-01 01:26:00</td>\n",
       "      <td>6.90839</td>\n",
       "      <td>...</td>\n",
       "      <td>1</td>\n",
       "      <td>8</td>\n",
       "      <td>2019</td>\n",
       "      <td>11</td>\n",
       "      <td>1</td>\n",
       "      <td>1</td>\n",
       "      <td>26</td>\n",
       "      <td>1080</td>\n",
       "      <td>0</td>\n",
       "      <td>4</td>\n",
       "    </tr>\n",
       "    <tr>\n",
       "      <th>3</th>\n",
       "      <td>3</td>\n",
       "      <td>189127273</td>\n",
       "      <td>10.5</td>\n",
       "      <td>598</td>\n",
       "      <td>271.0</td>\n",
       "      <td>15.663800</td>\n",
       "      <td>68.0</td>\n",
       "      <td>2019-11-01 02:27:00</td>\n",
       "      <td>2019-11-01 02:37:00</td>\n",
       "      <td>6.92570</td>\n",
       "      <td>...</td>\n",
       "      <td>2</td>\n",
       "      <td>27</td>\n",
       "      <td>2019</td>\n",
       "      <td>11</td>\n",
       "      <td>1</td>\n",
       "      <td>2</td>\n",
       "      <td>37</td>\n",
       "      <td>600</td>\n",
       "      <td>0</td>\n",
       "      <td>4</td>\n",
       "    </tr>\n",
       "    <tr>\n",
       "      <th>4</th>\n",
       "      <td>4</td>\n",
       "      <td>189128020</td>\n",
       "      <td>10.5</td>\n",
       "      <td>1020</td>\n",
       "      <td>132.0</td>\n",
       "      <td>1.800013</td>\n",
       "      <td>83.0</td>\n",
       "      <td>2019-11-01 03:34:00</td>\n",
       "      <td>2019-11-01 03:51:00</td>\n",
       "      <td>6.87441</td>\n",
       "      <td>...</td>\n",
       "      <td>3</td>\n",
       "      <td>34</td>\n",
       "      <td>2019</td>\n",
       "      <td>11</td>\n",
       "      <td>1</td>\n",
       "      <td>3</td>\n",
       "      <td>51</td>\n",
       "      <td>1020</td>\n",
       "      <td>0</td>\n",
       "      <td>4</td>\n",
       "    </tr>\n",
       "  </tbody>\n",
       "</table>\n",
       "<p>5 rows × 31 columns</p>\n",
       "</div>"
      ],
      "text/plain": [
       "   Unnamed: 0     tripid  additional_fare  duration  meter_waiting  \\\n",
       "0           0  189123628             10.5       834           56.0   \n",
       "1           1  189125358             10.5       791           47.0   \n",
       "2           2  189125719             10.5      1087           80.0   \n",
       "3           3  189127273             10.5       598          271.0   \n",
       "4           4  189128020             10.5      1020          132.0   \n",
       "\n",
       "   meter_waiting_fare  meter_waiting_till_pickup          pickup_time  \\\n",
       "0            0.000000                       64.0  2019-11-01 00:20:00   \n",
       "1            0.000000                      134.0  2019-11-01 00:56:00   \n",
       "2            0.000000                       61.0  2019-11-01 01:08:00   \n",
       "3           15.663800                       68.0  2019-11-01 02:27:00   \n",
       "4            1.800013                       83.0  2019-11-01 03:34:00   \n",
       "\n",
       "             drop_time  pick_lat  ...  pickup_hour  pickup_minute  drop_year  \\\n",
       "0  2019-11-01 00:34:00   6.86252  ...            0             20       2019   \n",
       "1  2019-11-01 01:09:00   6.88589  ...            0             56       2019   \n",
       "2  2019-11-01 01:26:00   6.90839  ...            1              8       2019   \n",
       "3  2019-11-01 02:37:00   6.92570  ...            2             27       2019   \n",
       "4  2019-11-01 03:51:00   6.87441  ...            3             34       2019   \n",
       "\n",
       "   drop_month  drop_date  drop_hour  drop_minute  seconds  number_of_nights  \\\n",
       "0          11          1          0           34      840                 0   \n",
       "1          11          1          1            9      780                 0   \n",
       "2          11          1          1           26     1080                 0   \n",
       "3          11          1          2           37      600                 0   \n",
       "4          11          1          3           51     1020                 0   \n",
       "\n",
       "   pickup_day  \n",
       "0           4  \n",
       "1           4  \n",
       "2           4  \n",
       "3           4  \n",
       "4           4  \n",
       "\n",
       "[5 rows x 31 columns]"
      ]
     },
     "execution_count": 39,
     "metadata": {},
     "output_type": "execute_result"
    }
   ],
   "source": [
    "data.head()"
   ]
  },
  {
   "cell_type": "code",
   "execution_count": 40,
   "metadata": {},
   "outputs": [],
   "source": [
    "del data['Unnamed: 0']"
   ]
  },
  {
   "cell_type": "code",
   "execution_count": 41,
   "metadata": {},
   "outputs": [
    {
     "data": {
      "text/plain": [
       "Index(['tripid', 'additional_fare', 'duration', 'meter_waiting',\n",
       "       'meter_waiting_fare', 'meter_waiting_till_pickup', 'pickup_time',\n",
       "       'drop_time', 'pick_lat', 'pick_lon', 'drop_lat', 'drop_lon', 'fare',\n",
       "       'label', 'lat_diff', 'lon_diff', 'distance', 'pickup_year',\n",
       "       'pickup_month', 'pickup_date', 'pickup_hour', 'pickup_minute',\n",
       "       'drop_year', 'drop_month', 'drop_date', 'drop_hour', 'drop_minute',\n",
       "       'seconds', 'number_of_nights', 'pickup_day'],\n",
       "      dtype='object')"
      ]
     },
     "execution_count": 41,
     "metadata": {},
     "output_type": "execute_result"
    }
   ],
   "source": [
    "data.columns"
   ]
  },
  {
   "cell_type": "code",
   "execution_count": 42,
   "metadata": {},
   "outputs": [],
   "source": [
    "features = ['additional_fare', 'duration', 'meter_waiting',\n",
    "       'meter_waiting_fare', 'meter_waiting_till_pickup','number_of_nights', 'pickup_day','fare','distance']"
   ]
  },
  {
   "cell_type": "code",
   "execution_count": 43,
   "metadata": {},
   "outputs": [],
   "source": [
    "X = data[features]\n",
    "Y = data.label"
   ]
  },
  {
   "cell_type": "code",
   "execution_count": 44,
   "metadata": {},
   "outputs": [],
   "source": [
    "from sklearn.model_selection import train_test_split\n",
    "xTrain, xValid, yTrain, yValid = train_test_split(X, Y,train_size = 0.999, random_state=4)"
   ]
  },
  {
   "cell_type": "code",
   "execution_count": 45,
   "metadata": {},
   "outputs": [
    {
     "data": {
      "text/plain": [
       "RandomForestRegressor(max_depth=25, max_features=7, min_samples_leaf=2,\n",
       "                      min_samples_split=3, n_estimators=12, random_state=0)"
      ]
     },
     "execution_count": 45,
     "metadata": {},
     "output_type": "execute_result"
    }
   ],
   "source": [
    "from sklearn.neural_network import MLPRegressor\n",
    "from sklearn.neural_network import MLPClassifier\n",
    "from sklearn.ensemble import RandomForestRegressor\n",
    "from sklearn import metrics\n",
    "from sklearn. ensemble import RandomForestClassifier, BaggingClassifier, AdaBoostClassifier, VotingClassifier\n",
    "from sklearn.tree import DecisionTreeRegressor\n",
    "from sklearn.linear_model import LinearRegression\n",
    "from sklearn.tree import DecisionTreeClassifier\n",
    "#model = MLPRegressor(hidden_layer_sizes=(10,5,),activation='logistic',max_iter=200)\n",
    "model = RandomForestRegressor(n_estimators =12,max_features =7,max_depth =25, min_samples_split=3,min_samples_leaf=2, random_state=0)\n",
    "model.fit(xTrain,yTrain)"
   ]
  },
  {
   "cell_type": "code",
   "execution_count": 46,
   "metadata": {},
   "outputs": [],
   "source": [
    "d_test= pd.read_csv(\"Missing_Values_Handling/final_test.csv\")"
   ]
  },
  {
   "cell_type": "code",
   "execution_count": 47,
   "metadata": {},
   "outputs": [
    {
     "data": {
      "text/html": [
       "<div>\n",
       "<style scoped>\n",
       "    .dataframe tbody tr th:only-of-type {\n",
       "        vertical-align: middle;\n",
       "    }\n",
       "\n",
       "    .dataframe tbody tr th {\n",
       "        vertical-align: top;\n",
       "    }\n",
       "\n",
       "    .dataframe thead th {\n",
       "        text-align: right;\n",
       "    }\n",
       "</style>\n",
       "<table border=\"1\" class=\"dataframe\">\n",
       "  <thead>\n",
       "    <tr style=\"text-align: right;\">\n",
       "      <th></th>\n",
       "      <th>Unnamed: 0</th>\n",
       "      <th>Unnamed: 0.1</th>\n",
       "      <th>Unnamed: 0.1.1</th>\n",
       "      <th>tripid</th>\n",
       "      <th>additional_fare</th>\n",
       "      <th>duration</th>\n",
       "      <th>meter_waiting</th>\n",
       "      <th>meter_waiting_fare</th>\n",
       "      <th>meter_waiting_till_pickup</th>\n",
       "      <th>pickup_time</th>\n",
       "      <th>...</th>\n",
       "      <th>drop_month</th>\n",
       "      <th>drop_date</th>\n",
       "      <th>drop_hour</th>\n",
       "      <th>drop_minute</th>\n",
       "      <th>number_of_nights</th>\n",
       "      <th>seconds</th>\n",
       "      <th>pickup_day</th>\n",
       "      <th>lat_diff</th>\n",
       "      <th>lon_diff</th>\n",
       "      <th>distance</th>\n",
       "    </tr>\n",
       "  </thead>\n",
       "  <tbody>\n",
       "    <tr>\n",
       "      <th>0</th>\n",
       "      <td>0</td>\n",
       "      <td>0</td>\n",
       "      <td>0</td>\n",
       "      <td>213284604</td>\n",
       "      <td>10.5</td>\n",
       "      <td>924</td>\n",
       "      <td>42</td>\n",
       "      <td>2.4486</td>\n",
       "      <td>148</td>\n",
       "      <td>2020-02-01 00:38:00</td>\n",
       "      <td>...</td>\n",
       "      <td>2</td>\n",
       "      <td>1</td>\n",
       "      <td>0</td>\n",
       "      <td>53</td>\n",
       "      <td>0</td>\n",
       "      <td>900.0</td>\n",
       "      <td>5</td>\n",
       "      <td>-0.05964</td>\n",
       "      <td>0.0090</td>\n",
       "      <td>0.060315</td>\n",
       "    </tr>\n",
       "    <tr>\n",
       "      <th>1</th>\n",
       "      <td>1</td>\n",
       "      <td>1</td>\n",
       "      <td>1</td>\n",
       "      <td>213286352</td>\n",
       "      <td>10.5</td>\n",
       "      <td>4249</td>\n",
       "      <td>20</td>\n",
       "      <td>0.0000</td>\n",
       "      <td>91</td>\n",
       "      <td>2020-02-01 01:02:00</td>\n",
       "      <td>...</td>\n",
       "      <td>2</td>\n",
       "      <td>1</td>\n",
       "      <td>2</td>\n",
       "      <td>13</td>\n",
       "      <td>0</td>\n",
       "      <td>4260.0</td>\n",
       "      <td>5</td>\n",
       "      <td>-0.36077</td>\n",
       "      <td>0.0983</td>\n",
       "      <td>0.373922</td>\n",
       "    </tr>\n",
       "    <tr>\n",
       "      <th>2</th>\n",
       "      <td>2</td>\n",
       "      <td>2</td>\n",
       "      <td>2</td>\n",
       "      <td>213293973</td>\n",
       "      <td>10.5</td>\n",
       "      <td>1552</td>\n",
       "      <td>255</td>\n",
       "      <td>2.6588</td>\n",
       "      <td>23</td>\n",
       "      <td>2020-02-01 05:02:00</td>\n",
       "      <td>...</td>\n",
       "      <td>2</td>\n",
       "      <td>1</td>\n",
       "      <td>5</td>\n",
       "      <td>28</td>\n",
       "      <td>0</td>\n",
       "      <td>1560.0</td>\n",
       "      <td>5</td>\n",
       "      <td>-0.01606</td>\n",
       "      <td>0.0511</td>\n",
       "      <td>0.053564</td>\n",
       "    </tr>\n",
       "    <tr>\n",
       "      <th>3</th>\n",
       "      <td>3</td>\n",
       "      <td>3</td>\n",
       "      <td>3</td>\n",
       "      <td>213294622</td>\n",
       "      <td>10.5</td>\n",
       "      <td>462</td>\n",
       "      <td>16</td>\n",
       "      <td>0.0000</td>\n",
       "      <td>198</td>\n",
       "      <td>2020-02-01 05:30:00</td>\n",
       "      <td>...</td>\n",
       "      <td>2</td>\n",
       "      <td>1</td>\n",
       "      <td>5</td>\n",
       "      <td>38</td>\n",
       "      <td>0</td>\n",
       "      <td>480.0</td>\n",
       "      <td>5</td>\n",
       "      <td>0.02968</td>\n",
       "      <td>-0.0009</td>\n",
       "      <td>0.029694</td>\n",
       "    </tr>\n",
       "    <tr>\n",
       "      <th>4</th>\n",
       "      <td>4</td>\n",
       "      <td>4</td>\n",
       "      <td>4</td>\n",
       "      <td>213298687</td>\n",
       "      <td>10.5</td>\n",
       "      <td>814</td>\n",
       "      <td>392</td>\n",
       "      <td>12.3692</td>\n",
       "      <td>69</td>\n",
       "      <td>2020-02-01 07:00:00</td>\n",
       "      <td>...</td>\n",
       "      <td>2</td>\n",
       "      <td>1</td>\n",
       "      <td>7</td>\n",
       "      <td>14</td>\n",
       "      <td>0</td>\n",
       "      <td>840.0</td>\n",
       "      <td>5</td>\n",
       "      <td>0.00907</td>\n",
       "      <td>-0.0216</td>\n",
       "      <td>0.023427</td>\n",
       "    </tr>\n",
       "  </tbody>\n",
       "</table>\n",
       "<p>5 rows × 32 columns</p>\n",
       "</div>"
      ],
      "text/plain": [
       "   Unnamed: 0  Unnamed: 0.1  Unnamed: 0.1.1     tripid  additional_fare  \\\n",
       "0           0             0               0  213284604             10.5   \n",
       "1           1             1               1  213286352             10.5   \n",
       "2           2             2               2  213293973             10.5   \n",
       "3           3             3               3  213294622             10.5   \n",
       "4           4             4               4  213298687             10.5   \n",
       "\n",
       "   duration  meter_waiting  meter_waiting_fare  meter_waiting_till_pickup  \\\n",
       "0       924             42              2.4486                        148   \n",
       "1      4249             20              0.0000                         91   \n",
       "2      1552            255              2.6588                         23   \n",
       "3       462             16              0.0000                        198   \n",
       "4       814            392             12.3692                         69   \n",
       "\n",
       "           pickup_time  ... drop_month  drop_date  drop_hour  drop_minute  \\\n",
       "0  2020-02-01 00:38:00  ...          2          1          0           53   \n",
       "1  2020-02-01 01:02:00  ...          2          1          2           13   \n",
       "2  2020-02-01 05:02:00  ...          2          1          5           28   \n",
       "3  2020-02-01 05:30:00  ...          2          1          5           38   \n",
       "4  2020-02-01 07:00:00  ...          2          1          7           14   \n",
       "\n",
       "   number_of_nights  seconds  pickup_day  lat_diff  lon_diff  distance  \n",
       "0                 0    900.0           5  -0.05964    0.0090  0.060315  \n",
       "1                 0   4260.0           5  -0.36077    0.0983  0.373922  \n",
       "2                 0   1560.0           5  -0.01606    0.0511  0.053564  \n",
       "3                 0    480.0           5   0.02968   -0.0009  0.029694  \n",
       "4                 0    840.0           5   0.00907   -0.0216  0.023427  \n",
       "\n",
       "[5 rows x 32 columns]"
      ]
     },
     "execution_count": 47,
     "metadata": {},
     "output_type": "execute_result"
    }
   ],
   "source": [
    "d_test.head()"
   ]
  },
  {
   "cell_type": "code",
   "execution_count": 48,
   "metadata": {},
   "outputs": [],
   "source": [
    "del d_test['Unnamed: 0']"
   ]
  },
  {
   "cell_type": "code",
   "execution_count": 49,
   "metadata": {},
   "outputs": [
    {
     "data": {
      "text/plain": [
       "Index(['Unnamed: 0.1', 'Unnamed: 0.1.1', 'tripid', 'additional_fare',\n",
       "       'duration', 'meter_waiting', 'meter_waiting_fare',\n",
       "       'meter_waiting_till_pickup', 'pickup_time', 'drop_time', 'pick_lat',\n",
       "       'pick_lon', 'drop_lat', 'drop_lon', 'fare', 'pickup_year',\n",
       "       'pickup_month', 'pickup_date', 'pickup_hour', 'pickup_minute',\n",
       "       'drop_year', 'drop_month', 'drop_date', 'drop_hour', 'drop_minute',\n",
       "       'number_of_nights', 'seconds', 'pickup_day', 'lat_diff', 'lon_diff',\n",
       "       'distance'],\n",
       "      dtype='object')"
      ]
     },
     "execution_count": 49,
     "metadata": {},
     "output_type": "execute_result"
    }
   ],
   "source": [
    "d_test.columns"
   ]
  },
  {
   "cell_type": "code",
   "execution_count": 50,
   "metadata": {},
   "outputs": [],
   "source": [
    "features = ['additional_fare', 'duration', 'meter_waiting',\n",
    "       'meter_waiting_fare', 'meter_waiting_till_pickup','number_of_nights', 'pickup_day','fare','distance']\n",
    "X = d_test[features]"
   ]
  },
  {
   "cell_type": "code",
   "execution_count": 51,
   "metadata": {},
   "outputs": [],
   "source": [
    "predictions = model.predict(X)"
   ]
  },
  {
   "cell_type": "code",
   "execution_count": 52,
   "metadata": {},
   "outputs": [
    {
     "data": {
      "text/plain": [
       "8576"
      ]
     },
     "execution_count": 52,
     "metadata": {},
     "output_type": "execute_result"
    }
   ],
   "source": [
    "len(predictions)"
   ]
  },
  {
   "cell_type": "code",
   "execution_count": 53,
   "metadata": {},
   "outputs": [
    {
     "data": {
      "text/plain": [
       "array([0.93832202, 0.475     , 0.94444444, ..., 0.98840195, 0.97854297,\n",
       "       0.99581962])"
      ]
     },
     "execution_count": 53,
     "metadata": {},
     "output_type": "execute_result"
    }
   ],
   "source": [
    "predictions"
   ]
  },
  {
   "cell_type": "code",
   "execution_count": 56,
   "metadata": {},
   "outputs": [
    {
     "data": {
      "text/plain": [
       "(7969, 607)"
      ]
     },
     "execution_count": 56,
     "metadata": {},
     "output_type": "execute_result"
    }
   ],
   "source": [
    "true_predictions = []\n",
    "ones =0\n",
    "zeros = 0\n",
    "for i in range(0,len(predictions)):\n",
    "    if(predictions[i]>0.7):\n",
    "        true_predictions.append(1)\n",
    "        ones=ones+1\n",
    "    else:\n",
    "        true_predictions.append(0)\n",
    "        zeros =zeros+1\n",
    "ones,zeros"
   ]
  },
  {
   "cell_type": "code",
   "execution_count": 57,
   "metadata": {},
   "outputs": [],
   "source": [
    "import csv\n",
    "with open('Submissions/submission.csv', 'w+',newline='') as f:\n",
    "    writer = csv.writer(f)\n",
    "    writer.writerow(['tripid','prediction'])\n",
    "    for i in range(0,len(true_predictions)):\n",
    "        \n",
    "        writer.writerow([d_test.tripid[i],true_predictions[i]])"
   ]
  },
  {
   "cell_type": "code",
   "execution_count": null,
   "metadata": {},
   "outputs": [],
   "source": []
  }
 ],
 "metadata": {
  "kernelspec": {
   "display_name": "Python 3",
   "language": "python",
   "name": "python3"
  },
  "language_info": {
   "codemirror_mode": {
    "name": "ipython",
    "version": 3
   },
   "file_extension": ".py",
   "mimetype": "text/x-python",
   "name": "python",
   "nbconvert_exporter": "python",
   "pygments_lexer": "ipython3",
   "version": "3.6.8"
  }
 },
 "nbformat": 4,
 "nbformat_minor": 4
}
